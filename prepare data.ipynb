{
 "cells": [
  {
   "cell_type": "code",
   "execution_count": 114,
   "id": "5ca623bc-7bf7-474b-b649-65b11caef03d",
   "metadata": {},
   "outputs": [],
   "source": [
    "import pandas as pd\n",
    "import os, glob\n",
    "from sklearn.model_selection import GroupKFold\n",
    "import shutil\n",
    "from tqdm import tqdm\n",
    "import yaml"
   ]
  },
  {
   "cell_type": "code",
   "execution_count": 34,
   "id": "50d1e13d-a228-4d5e-bafb-03fc4d56798f",
   "metadata": {},
   "outputs": [
    {
     "ename": "NameError",
     "evalue": "name 'i' is not defined",
     "output_type": "error",
     "traceback": [
      "\u001b[1;31m---------------------------------------------------------------------------\u001b[0m",
      "\u001b[1;31mNameError\u001b[0m                                 Traceback (most recent call last)",
      "Cell \u001b[1;32mIn[34], line 1\u001b[0m\n\u001b[1;32m----> 1\u001b[0m os\u001b[38;5;241m.\u001b[39mpath\u001b[38;5;241m.\u001b[39msplitext( os\u001b[38;5;241m.\u001b[39mpath\u001b[38;5;241m.\u001b[39mbasename(\u001b[43mi\u001b[49m ))[\u001b[38;5;241m0\u001b[39m]\n",
      "\u001b[1;31mNameError\u001b[0m: name 'i' is not defined"
     ]
    }
   ],
   "source": []
  },
  {
   "cell_type": "code",
   "execution_count": 11,
   "id": "d2218b40-3cbf-40a6-b265-3d064a2c3d11",
   "metadata": {},
   "outputs": [],
   "source": [
    "folders = glob.glob(r\"C:\\yolo\\cowc-m-everything\\cowc-m\\datasets\\DetectionPatches_256x256\\DetectionPatches_256x256\\*\")"
   ]
  },
  {
   "cell_type": "code",
   "execution_count": 42,
   "id": "78f15c6a-5329-49ea-8573-437f2929f44c",
   "metadata": {},
   "outputs": [
    {
     "name": "stderr",
     "output_type": "stream",
     "text": [
      "<>:4: SyntaxWarning: invalid escape sequence '\\*'\n",
      "<>:4: SyntaxWarning: invalid escape sequence '\\*'\n",
      "C:\\Users\\Bruno\\AppData\\Local\\Temp\\ipykernel_14492\\2973741802.py:4: SyntaxWarning: invalid escape sequence '\\*'\n",
      "  for i in glob.glob(folder + \"\\*.txt\"):\n"
     ]
    }
   ],
   "source": [
    "imagens = []\n",
    "labels = []\n",
    "for folder in folders:\n",
    "    for i in glob.glob(folder + \"\\*.txt\"):\n",
    "        temp = os.path.dirname( i ) + '\\\\'+ os.path.splitext( os.path.basename( i ) ) [0] + \".jpg\" \n",
    "        if not os.path.exists(temp) :\n",
    "            raise Exception(\"deu pau\")\n",
    "        imagens.append( temp )\n",
    "        labels.append( i  )"
   ]
  },
  {
   "cell_type": "code",
   "execution_count": 51,
   "id": "30b144e9-9eca-4cad-8c66-b4ad90662852",
   "metadata": {},
   "outputs": [],
   "source": [
    "df = pd.DataFrame( data = {'image_id': imagens, \"labels\": labels } )"
   ]
  },
  {
   "cell_type": "code",
   "execution_count": null,
   "id": "901f3c8e-6413-4d90-b0c6-cdb287cddf8c",
   "metadata": {},
   "outputs": [],
   "source": []
  },
  {
   "cell_type": "code",
   "execution_count": 80,
   "id": "992a1fbc-ea97-49b6-8668-5e95424e8eb0",
   "metadata": {},
   "outputs": [
    {
     "data": {
      "text/html": [
       "<div>\n",
       "<style scoped>\n",
       "    .dataframe tbody tr th:only-of-type {\n",
       "        vertical-align: middle;\n",
       "    }\n",
       "\n",
       "    .dataframe tbody tr th {\n",
       "        vertical-align: top;\n",
       "    }\n",
       "\n",
       "    .dataframe thead th {\n",
       "        text-align: right;\n",
       "    }\n",
       "</style>\n",
       "<table border=\"1\" class=\"dataframe\">\n",
       "  <thead>\n",
       "    <tr style=\"text-align: right;\">\n",
       "      <th></th>\n",
       "      <th>cls</th>\n",
       "      <th>a</th>\n",
       "      <th>b</th>\n",
       "      <th>c</th>\n",
       "      <th>d</th>\n",
       "      <th>path</th>\n",
       "    </tr>\n",
       "  </thead>\n",
       "  <tbody>\n",
       "    <tr>\n",
       "      <th>0</th>\n",
       "      <td>1</td>\n",
       "      <td>0.316406</td>\n",
       "      <td>0.597656</td>\n",
       "      <td>0.125</td>\n",
       "      <td>0.125</td>\n",
       "      <td>C:\\yolo\\cowc-m-everything\\cowc-m\\datasets\\Dete...</td>\n",
       "    </tr>\n",
       "    <tr>\n",
       "      <th>1</th>\n",
       "      <td>1</td>\n",
       "      <td>0.367188</td>\n",
       "      <td>0.839844</td>\n",
       "      <td>0.125</td>\n",
       "      <td>0.125</td>\n",
       "      <td>C:\\yolo\\cowc-m-everything\\cowc-m\\datasets\\Dete...</td>\n",
       "    </tr>\n",
       "    <tr>\n",
       "      <th>2</th>\n",
       "      <td>3</td>\n",
       "      <td>0.453125</td>\n",
       "      <td>0.839844</td>\n",
       "      <td>0.125</td>\n",
       "      <td>0.125</td>\n",
       "      <td>C:\\yolo\\cowc-m-everything\\cowc-m\\datasets\\Dete...</td>\n",
       "    </tr>\n",
       "    <tr>\n",
       "      <th>3</th>\n",
       "      <td>3</td>\n",
       "      <td>0.468750</td>\n",
       "      <td>0.500000</td>\n",
       "      <td>0.125</td>\n",
       "      <td>0.125</td>\n",
       "      <td>C:\\yolo\\cowc-m-everything\\cowc-m\\datasets\\Dete...</td>\n",
       "    </tr>\n",
       "    <tr>\n",
       "      <th>4</th>\n",
       "      <td>3</td>\n",
       "      <td>0.453125</td>\n",
       "      <td>0.339844</td>\n",
       "      <td>0.125</td>\n",
       "      <td>0.125</td>\n",
       "      <td>C:\\yolo\\cowc-m-everything\\cowc-m\\datasets\\Dete...</td>\n",
       "    </tr>\n",
       "    <tr>\n",
       "      <th>...</th>\n",
       "      <td>...</td>\n",
       "      <td>...</td>\n",
       "      <td>...</td>\n",
       "      <td>...</td>\n",
       "      <td>...</td>\n",
       "      <td>...</td>\n",
       "    </tr>\n",
       "    <tr>\n",
       "      <th>6714</th>\n",
       "      <td>3</td>\n",
       "      <td>0.296875</td>\n",
       "      <td>0.476562</td>\n",
       "      <td>0.125</td>\n",
       "      <td>0.125</td>\n",
       "      <td>C:\\yolo\\cowc-m-everything\\cowc-m\\datasets\\Dete...</td>\n",
       "    </tr>\n",
       "    <tr>\n",
       "      <th>6715</th>\n",
       "      <td>1</td>\n",
       "      <td>0.093750</td>\n",
       "      <td>0.222656</td>\n",
       "      <td>0.125</td>\n",
       "      <td>0.125</td>\n",
       "      <td>C:\\yolo\\cowc-m-everything\\cowc-m\\datasets\\Dete...</td>\n",
       "    </tr>\n",
       "    <tr>\n",
       "      <th>6716</th>\n",
       "      <td>1</td>\n",
       "      <td>0.242188</td>\n",
       "      <td>0.578125</td>\n",
       "      <td>0.125</td>\n",
       "      <td>0.125</td>\n",
       "      <td>C:\\yolo\\cowc-m-everything\\cowc-m\\datasets\\Dete...</td>\n",
       "    </tr>\n",
       "    <tr>\n",
       "      <th>6717</th>\n",
       "      <td>1</td>\n",
       "      <td>0.128906</td>\n",
       "      <td>0.746094</td>\n",
       "      <td>0.125</td>\n",
       "      <td>0.125</td>\n",
       "      <td>C:\\yolo\\cowc-m-everything\\cowc-m\\datasets\\Dete...</td>\n",
       "    </tr>\n",
       "    <tr>\n",
       "      <th>6718</th>\n",
       "      <td>1</td>\n",
       "      <td>0.195312</td>\n",
       "      <td>0.636719</td>\n",
       "      <td>0.125</td>\n",
       "      <td>0.125</td>\n",
       "      <td>C:\\yolo\\cowc-m-everything\\cowc-m\\datasets\\Dete...</td>\n",
       "    </tr>\n",
       "  </tbody>\n",
       "</table>\n",
       "<p>6719 rows × 6 columns</p>\n",
       "</div>"
      ],
      "text/plain": [
       "      cls         a         b      c      d  \\\n",
       "0       1  0.316406  0.597656  0.125  0.125   \n",
       "1       1  0.367188  0.839844  0.125  0.125   \n",
       "2       3  0.453125  0.839844  0.125  0.125   \n",
       "3       3  0.468750  0.500000  0.125  0.125   \n",
       "4       3  0.453125  0.339844  0.125  0.125   \n",
       "...   ...       ...       ...    ...    ...   \n",
       "6714    3  0.296875  0.476562  0.125  0.125   \n",
       "6715    1  0.093750  0.222656  0.125  0.125   \n",
       "6716    1  0.242188  0.578125  0.125  0.125   \n",
       "6717    1  0.128906  0.746094  0.125  0.125   \n",
       "6718    1  0.195312  0.636719  0.125  0.125   \n",
       "\n",
       "                                                   path  \n",
       "0     C:\\yolo\\cowc-m-everything\\cowc-m\\datasets\\Dete...  \n",
       "1     C:\\yolo\\cowc-m-everything\\cowc-m\\datasets\\Dete...  \n",
       "2     C:\\yolo\\cowc-m-everything\\cowc-m\\datasets\\Dete...  \n",
       "3     C:\\yolo\\cowc-m-everything\\cowc-m\\datasets\\Dete...  \n",
       "4     C:\\yolo\\cowc-m-everything\\cowc-m\\datasets\\Dete...  \n",
       "...                                                 ...  \n",
       "6714  C:\\yolo\\cowc-m-everything\\cowc-m\\datasets\\Dete...  \n",
       "6715  C:\\yolo\\cowc-m-everything\\cowc-m\\datasets\\Dete...  \n",
       "6716  C:\\yolo\\cowc-m-everything\\cowc-m\\datasets\\Dete...  \n",
       "6717  C:\\yolo\\cowc-m-everything\\cowc-m\\datasets\\Dete...  \n",
       "6718  C:\\yolo\\cowc-m-everything\\cowc-m\\datasets\\Dete...  \n",
       "\n",
       "[6719 rows x 6 columns]"
      ]
     },
     "execution_count": 80,
     "metadata": {},
     "output_type": "execute_result"
    }
   ],
   "source": [
    "label_total"
   ]
  },
  {
   "cell_type": "code",
   "execution_count": 81,
   "id": "84bd8f65-f228-44a7-8378-b8abb5bc4bf3",
   "metadata": {},
   "outputs": [
    {
     "name": "stdout",
     "output_type": "stream",
     "text": [
      "29548 \\ 29549\r"
     ]
    }
   ],
   "source": [
    "label_total = pd.DataFrame()\n",
    "for i, row in df.iterrows():\n",
    "    label = pd.read_csv( row.labels , sep = \" \", names = ['cls','a' , 'b', 'c', 'd'])\n",
    "    \n",
    "    label['path'] =  row.labels\n",
    "    \n",
    "    label_total = pd.concat( [label_total, label ] , ignore_index=True )\n",
    "    print(i, \"\\\\\", df.shape[0], end= \"\\r\")\n",
    "    "
   ]
  },
  {
   "cell_type": "code",
   "execution_count": 87,
   "id": "829218f5-9f11-4556-a604-a2b6e11e2d89",
   "metadata": {},
   "outputs": [
    {
     "name": "stdout",
     "output_type": "stream",
     "text": [
      "cls                                                     1\n",
      "a                                                0.316406\n",
      "b                                                0.597656\n",
      "c                                                   0.125\n",
      "d                                                   0.125\n",
      "path    C:\\yolo\\cowc-m-everything\\cowc-m\\datasets\\Dete...\n",
      "Name: 0, dtype: object\n",
      "cls                                                     3\n",
      "a                                                0.453125\n",
      "b                                                0.839844\n",
      "c                                                   0.125\n",
      "d                                                   0.125\n",
      "path    C:\\yolo\\cowc-m-everything\\cowc-m\\datasets\\Dete...\n",
      "Name: 2, dtype: object\n",
      "cls                                                     2\n",
      "a                                                0.597656\n",
      "b                                                0.699219\n",
      "c                                                   0.125\n",
      "d                                                   0.125\n",
      "path    C:\\yolo\\cowc-m-everything\\cowc-m\\datasets\\Dete...\n",
      "Name: 22, dtype: object\n",
      "cls                                                     4\n",
      "a                                                0.703125\n",
      "b                                                0.996094\n",
      "c                                                   0.125\n",
      "d                                                   0.125\n",
      "path    C:\\yolo\\cowc-m-everything\\cowc-m\\datasets\\Dete...\n",
      "Name: 48, dtype: object\n"
     ]
    }
   ],
   "source": [
    "for i in label_total.cls.unique().tolist():\n",
    "    print( label_total[ label_total.cls == i ].iloc[0] )"
   ]
  },
  {
   "cell_type": "code",
   "execution_count": null,
   "id": "927be3a9-4925-4b79-93be-f75f41ae711d",
   "metadata": {},
   "outputs": [],
   "source": [
    "gkf  = GroupKFold(n_splits = 5)\n",
    "df['fold'] = -1\n",
    "for fold, (train_idx, val_idx) in enumerate(gkf.split(df, groups = df.image_id.tolist())):\n",
    "    df.loc[val_idx, 'fold'] = fold\n",
    "val_df = df[df['fold']==4]\n",
    "val_df.head()"
   ]
  },
  {
   "cell_type": "code",
   "execution_count": 55,
   "id": "b5c08c81-d376-40ac-9cc7-2ad58ebdf814",
   "metadata": {},
   "outputs": [
    {
     "name": "stderr",
     "output_type": "stream",
     "text": [
      "Cloning into 'yolov5'...\n"
     ]
    }
   ],
   "source": [
    "!git clone https://github.com/ultralytics/yolov5.git"
   ]
  },
  {
   "cell_type": "code",
   "execution_count": null,
   "id": "ab6bb876-a7b0-4c1e-9e6f-33e661ad43ed",
   "metadata": {},
   "outputs": [],
   "source": []
  },
  {
   "cell_type": "code",
   "execution_count": 88,
   "id": "06537d91-467b-4f42-8a1f-5dbe0a9146cf",
   "metadata": {},
   "outputs": [
    {
     "data": {
      "text/html": [
       "<div>\n",
       "<style scoped>\n",
       "    .dataframe tbody tr th:only-of-type {\n",
       "        vertical-align: middle;\n",
       "    }\n",
       "\n",
       "    .dataframe tbody tr th {\n",
       "        vertical-align: top;\n",
       "    }\n",
       "\n",
       "    .dataframe thead th {\n",
       "        text-align: right;\n",
       "    }\n",
       "</style>\n",
       "<table border=\"1\" class=\"dataframe\">\n",
       "  <thead>\n",
       "    <tr style=\"text-align: right;\">\n",
       "      <th></th>\n",
       "      <th>image_id</th>\n",
       "      <th>labels</th>\n",
       "      <th>fold</th>\n",
       "    </tr>\n",
       "  </thead>\n",
       "  <tbody>\n",
       "    <tr>\n",
       "      <th>0</th>\n",
       "      <td>C:\\yolo\\cowc-m-everything\\cowc-m\\datasets\\Dete...</td>\n",
       "      <td>C:\\yolo\\cowc-m-everything\\cowc-m\\datasets\\Dete...</td>\n",
       "      <td>3</td>\n",
       "    </tr>\n",
       "    <tr>\n",
       "      <th>1</th>\n",
       "      <td>C:\\yolo\\cowc-m-everything\\cowc-m\\datasets\\Dete...</td>\n",
       "      <td>C:\\yolo\\cowc-m-everything\\cowc-m\\datasets\\Dete...</td>\n",
       "      <td>4</td>\n",
       "    </tr>\n",
       "    <tr>\n",
       "      <th>2</th>\n",
       "      <td>C:\\yolo\\cowc-m-everything\\cowc-m\\datasets\\Dete...</td>\n",
       "      <td>C:\\yolo\\cowc-m-everything\\cowc-m\\datasets\\Dete...</td>\n",
       "      <td>0</td>\n",
       "    </tr>\n",
       "    <tr>\n",
       "      <th>3</th>\n",
       "      <td>C:\\yolo\\cowc-m-everything\\cowc-m\\datasets\\Dete...</td>\n",
       "      <td>C:\\yolo\\cowc-m-everything\\cowc-m\\datasets\\Dete...</td>\n",
       "      <td>1</td>\n",
       "    </tr>\n",
       "    <tr>\n",
       "      <th>4</th>\n",
       "      <td>C:\\yolo\\cowc-m-everything\\cowc-m\\datasets\\Dete...</td>\n",
       "      <td>C:\\yolo\\cowc-m-everything\\cowc-m\\datasets\\Dete...</td>\n",
       "      <td>2</td>\n",
       "    </tr>\n",
       "    <tr>\n",
       "      <th>...</th>\n",
       "      <td>...</td>\n",
       "      <td>...</td>\n",
       "      <td>...</td>\n",
       "    </tr>\n",
       "    <tr>\n",
       "      <th>29544</th>\n",
       "      <td>C:\\yolo\\cowc-m-everything\\cowc-m\\datasets\\Dete...</td>\n",
       "      <td>C:\\yolo\\cowc-m-everything\\cowc-m\\datasets\\Dete...</td>\n",
       "      <td>1</td>\n",
       "    </tr>\n",
       "    <tr>\n",
       "      <th>29545</th>\n",
       "      <td>C:\\yolo\\cowc-m-everything\\cowc-m\\datasets\\Dete...</td>\n",
       "      <td>C:\\yolo\\cowc-m-everything\\cowc-m\\datasets\\Dete...</td>\n",
       "      <td>2</td>\n",
       "    </tr>\n",
       "    <tr>\n",
       "      <th>29546</th>\n",
       "      <td>C:\\yolo\\cowc-m-everything\\cowc-m\\datasets\\Dete...</td>\n",
       "      <td>C:\\yolo\\cowc-m-everything\\cowc-m\\datasets\\Dete...</td>\n",
       "      <td>3</td>\n",
       "    </tr>\n",
       "    <tr>\n",
       "      <th>29547</th>\n",
       "      <td>C:\\yolo\\cowc-m-everything\\cowc-m\\datasets\\Dete...</td>\n",
       "      <td>C:\\yolo\\cowc-m-everything\\cowc-m\\datasets\\Dete...</td>\n",
       "      <td>0</td>\n",
       "    </tr>\n",
       "    <tr>\n",
       "      <th>29548</th>\n",
       "      <td>C:\\yolo\\cowc-m-everything\\cowc-m\\datasets\\Dete...</td>\n",
       "      <td>C:\\yolo\\cowc-m-everything\\cowc-m\\datasets\\Dete...</td>\n",
       "      <td>0</td>\n",
       "    </tr>\n",
       "  </tbody>\n",
       "</table>\n",
       "<p>29549 rows × 3 columns</p>\n",
       "</div>"
      ],
      "text/plain": [
       "                                                image_id  \\\n",
       "0      C:\\yolo\\cowc-m-everything\\cowc-m\\datasets\\Dete...   \n",
       "1      C:\\yolo\\cowc-m-everything\\cowc-m\\datasets\\Dete...   \n",
       "2      C:\\yolo\\cowc-m-everything\\cowc-m\\datasets\\Dete...   \n",
       "3      C:\\yolo\\cowc-m-everything\\cowc-m\\datasets\\Dete...   \n",
       "4      C:\\yolo\\cowc-m-everything\\cowc-m\\datasets\\Dete...   \n",
       "...                                                  ...   \n",
       "29544  C:\\yolo\\cowc-m-everything\\cowc-m\\datasets\\Dete...   \n",
       "29545  C:\\yolo\\cowc-m-everything\\cowc-m\\datasets\\Dete...   \n",
       "29546  C:\\yolo\\cowc-m-everything\\cowc-m\\datasets\\Dete...   \n",
       "29547  C:\\yolo\\cowc-m-everything\\cowc-m\\datasets\\Dete...   \n",
       "29548  C:\\yolo\\cowc-m-everything\\cowc-m\\datasets\\Dete...   \n",
       "\n",
       "                                                  labels  fold  \n",
       "0      C:\\yolo\\cowc-m-everything\\cowc-m\\datasets\\Dete...     3  \n",
       "1      C:\\yolo\\cowc-m-everything\\cowc-m\\datasets\\Dete...     4  \n",
       "2      C:\\yolo\\cowc-m-everything\\cowc-m\\datasets\\Dete...     0  \n",
       "3      C:\\yolo\\cowc-m-everything\\cowc-m\\datasets\\Dete...     1  \n",
       "4      C:\\yolo\\cowc-m-everything\\cowc-m\\datasets\\Dete...     2  \n",
       "...                                                  ...   ...  \n",
       "29544  C:\\yolo\\cowc-m-everything\\cowc-m\\datasets\\Dete...     1  \n",
       "29545  C:\\yolo\\cowc-m-everything\\cowc-m\\datasets\\Dete...     2  \n",
       "29546  C:\\yolo\\cowc-m-everything\\cowc-m\\datasets\\Dete...     3  \n",
       "29547  C:\\yolo\\cowc-m-everything\\cowc-m\\datasets\\Dete...     0  \n",
       "29548  C:\\yolo\\cowc-m-everything\\cowc-m\\datasets\\Dete...     0  \n",
       "\n",
       "[29549 rows x 3 columns]"
      ]
     },
     "execution_count": 88,
     "metadata": {},
     "output_type": "execute_result"
    }
   ],
   "source": [
    "df"
   ]
  },
  {
   "cell_type": "code",
   "execution_count": 109,
   "id": "23d1987b-44a4-4103-83f7-05183342f353",
   "metadata": {},
   "outputs": [],
   "source": [
    "def create_folder(df, labels_path, images_path):\n",
    "    for index, row in tqdm(df.iterrows(), total=len(df)):\n",
    "        shutil.copy( row.image_id , os.path.join( images_path, os.path.basename( row.image_id )  ) )\n",
    "        shutil.copy( row.labels ,  os.path.join( labels_path, os.path.basename( row.labels )  ) )\n",
    "\n"
   ]
  },
  {
   "cell_type": "code",
   "execution_count": 110,
   "id": "702edce2-d841-489d-9875-5cee5473658d",
   "metadata": {},
   "outputs": [
    {
     "name": "stderr",
     "output_type": "stream",
     "text": [
      "100%|███████████████████████████████████████████████████████████████████████████| 29549/29549 [03:41<00:00, 133.67it/s]\n"
     ]
    },
    {
     "ename": "NameError",
     "evalue": "name 'df_val' is not defined",
     "output_type": "error",
     "traceback": [
      "\u001b[1;31m---------------------------------------------------------------------------\u001b[0m",
      "\u001b[1;31mNameError\u001b[0m                                 Traceback (most recent call last)",
      "Cell \u001b[1;32mIn[110], line 3\u001b[0m\n\u001b[0;32m      1\u001b[0m create_folder( df, \u001b[38;5;124mr\u001b[39m\u001b[38;5;124m\"\u001b[39m\u001b[38;5;124mC:\u001b[39m\u001b[38;5;124m\\\u001b[39m\u001b[38;5;124mUsers\u001b[39m\u001b[38;5;124m\\\u001b[39m\u001b[38;5;124mBruno\u001b[39m\u001b[38;5;124m\\\u001b[39m\u001b[38;5;124myolo bruno\u001b[39m\u001b[38;5;124m\\\u001b[39m\u001b[38;5;124mdataset\u001b[39m\u001b[38;5;124m\\\u001b[39m\u001b[38;5;124mtrain\u001b[39m\u001b[38;5;124m\\\u001b[39m\u001b[38;5;124mlabels\u001b[39m\u001b[38;5;124m\"\u001b[39m, \u001b[38;5;124mr\u001b[39m\u001b[38;5;124m\"\u001b[39m\u001b[38;5;124mC:\u001b[39m\u001b[38;5;124m\\\u001b[39m\u001b[38;5;124mUsers\u001b[39m\u001b[38;5;124m\\\u001b[39m\u001b[38;5;124mBruno\u001b[39m\u001b[38;5;124m\\\u001b[39m\u001b[38;5;124myolo bruno\u001b[39m\u001b[38;5;124m\\\u001b[39m\u001b[38;5;124mdataset\u001b[39m\u001b[38;5;124m\\\u001b[39m\u001b[38;5;124mtrain\u001b[39m\u001b[38;5;124m\\\u001b[39m\u001b[38;5;124mimages\u001b[39m\u001b[38;5;124m\"\u001b[39m )\n\u001b[1;32m----> 3\u001b[0m create_folder( \u001b[43mdf_val\u001b[49m, \u001b[38;5;124mr\u001b[39m\u001b[38;5;124m\"\u001b[39m\u001b[38;5;124mC:\u001b[39m\u001b[38;5;124m\\\u001b[39m\u001b[38;5;124mUsers\u001b[39m\u001b[38;5;124m\\\u001b[39m\u001b[38;5;124mBruno\u001b[39m\u001b[38;5;124m\\\u001b[39m\u001b[38;5;124myolo bruno\u001b[39m\u001b[38;5;124m\\\u001b[39m\u001b[38;5;124mdataset\u001b[39m\u001b[38;5;124m\\\u001b[39m\u001b[38;5;124mvalidation\u001b[39m\u001b[38;5;124m\\\u001b[39m\u001b[38;5;124mlabels\u001b[39m\u001b[38;5;124m\"\u001b[39m, \u001b[38;5;124mr\u001b[39m\u001b[38;5;124m\"\u001b[39m\u001b[38;5;124mC:\u001b[39m\u001b[38;5;124m\\\u001b[39m\u001b[38;5;124mUsers\u001b[39m\u001b[38;5;124m\\\u001b[39m\u001b[38;5;124mBruno\u001b[39m\u001b[38;5;124m\\\u001b[39m\u001b[38;5;124myolo bruno\u001b[39m\u001b[38;5;124m\\\u001b[39m\u001b[38;5;124mdataset\u001b[39m\u001b[38;5;124m\\\u001b[39m\u001b[38;5;124mvalidation\u001b[39m\u001b[38;5;124m\\\u001b[39m\u001b[38;5;124mimages\u001b[39m\u001b[38;5;124m\"\u001b[39m )\n",
      "\u001b[1;31mNameError\u001b[0m: name 'df_val' is not defined"
     ]
    }
   ],
   "source": [
    "create_folder( df, r\"C:\\Users\\Bruno\\yolo bruno\\dataset\\train\\labels\", r\"C:\\Users\\Bruno\\yolo bruno\\dataset\\train\\images\" )\n",
    "\n",
    "create_folder( val_df, r\"C:\\Users\\Bruno\\yolo bruno\\dataset\\validation\\labels\", r\"C:\\Users\\Bruno\\yolo bruno\\dataset\\validation\\images\" )"
   ]
  },
  {
   "cell_type": "code",
   "execution_count": 142,
   "id": "34e76709-bffb-4fa8-9e23-c0df4d30d350",
   "metadata": {},
   "outputs": [
    {
     "name": "stdout",
     "output_type": "stream",
     "text": [
      "C:\\Users\\Bruno\\yolo bruno\n"
     ]
    }
   ],
   "source": [
    "%cd ../\n"
   ]
  },
  {
   "cell_type": "code",
   "execution_count": 143,
   "id": "084659da-dfe2-418e-9759-3587cc5ac844",
   "metadata": {},
   "outputs": [
    {
     "name": "stdout",
     "output_type": "stream",
     "text": [
      "\n",
      "yaml:\n",
      "names:\n",
      "- car1\n",
      "- car2\n",
      "- car3\n",
      "- car4\n",
      "- car5\n",
      "nc: 5\n",
      "train: C:\\Users\\Bruno\\yolo bruno\\dataset\\train\n",
      "val: C:\\Users\\Bruno\\yolo bruno\\dataset\\validation\n",
      "\n"
     ]
    }
   ],
   "source": [
    "classes = [ 'car1', 'car2', 'car3', 'car4', 'car5' ]\n",
    "\n",
    "data = dict(\n",
    "    train =   r\"C:\\Users\\Bruno\\yolo bruno\\dataset\\train\",\n",
    "    val   =  r\"C:\\Users\\Bruno\\yolo bruno\\dataset\\validation\",\n",
    "    nc    = 5,\n",
    "    names = classes\n",
    "    )\n",
    "\n",
    "with open('./yolo_bruno.yaml', 'w') as outfile:\n",
    "    yaml.dump(data, outfile, default_flow_style=False)\n",
    "    \n",
    "f = open('./yolo_bruno.yaml', 'r')\n",
    "print('\\nyaml:')\n",
    "print(f.read())"
   ]
  },
  {
   "cell_type": "code",
   "execution_count": 144,
   "id": "18f5745a-369b-4438-b771-bcd337fa0e2c",
   "metadata": {},
   "outputs": [
    {
     "name": "stdout",
     "output_type": "stream",
     "text": [
      "C:\\Users\\Bruno\\yolo bruno\\yolov5\n"
     ]
    }
   ],
   "source": [
    "%cd ./yolov5\n"
   ]
  },
  {
   "cell_type": "code",
   "execution_count": null,
   "id": "facbe42d-4e6d-4313-b278-122f331f8b3a",
   "metadata": {},
   "outputs": [],
   "source": [
    "!pip install -r requirements.txt"
   ]
  },
  {
   "cell_type": "code",
   "execution_count": 145,
   "id": "439b8f24-23af-4e46-bc18-fb0ba41163a5",
   "metadata": {},
   "outputs": [],
   "source": [
    "!python train.py --img 512 --batch 8 --epochs 100 --data \"C:\\Users\\Bruno\\yolo bruno\\yolo_bruno.yaml\" --cfg \"C:\\Users\\Bruno\\yolo bruno\\models\\yolov5x.yaml\" --weights \"C:\\Users\\Bruno\\yolo bruno\\models\\yolov5x.pt\" --cache --name vin\n"
   ]
  },
  {
   "cell_type": "code",
   "execution_count": null,
   "id": "d25d3465-db10-4998-b1d3-655b7c6823fd",
   "metadata": {},
   "outputs": [],
   "source": []
  },
  {
   "cell_type": "code",
   "execution_count": null,
   "id": "71454606-8535-4ddd-a282-f334b8baa32e",
   "metadata": {},
   "outputs": [],
   "source": []
  }
 ],
 "metadata": {
  "kernelspec": {
   "display_name": "Python 3 (ipykernel)",
   "language": "python",
   "name": "python3"
  },
  "language_info": {
   "codemirror_mode": {
    "name": "ipython",
    "version": 3
   },
   "file_extension": ".py",
   "mimetype": "text/x-python",
   "name": "python",
   "nbconvert_exporter": "python",
   "pygments_lexer": "ipython3",
   "version": "3.12.2"
  }
 },
 "nbformat": 4,
 "nbformat_minor": 5
}
